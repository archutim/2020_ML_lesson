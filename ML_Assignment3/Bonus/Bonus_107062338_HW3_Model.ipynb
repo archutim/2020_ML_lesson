{
  "nbformat": 4,
  "nbformat_minor": 0,
  "metadata": {
    "colab": {
      "name": "EXR_CXR.ipynb",
      "provenance": []
    },
    "kernelspec": {
      "name": "python3",
      "display_name": "Python 3"
    },
    "accelerator": "GPU"
  },
  "cells": [
    {
      "cell_type": "markdown",
      "metadata": {
        "id": "wcF_9beKq6Tr"
      },
      "source": [
        "#Set up CNN environment"
      ]
    },
    {
      "cell_type": "code",
      "metadata": {
        "colab": {
          "base_uri": "https://localhost:8080/"
        },
        "id": "LHGS3lMnCsM8",
        "outputId": "0ea4fa37-f6e5-44c8-b352-96ea806b54b7"
      },
      "source": [
        "import tensorflow as tf\r\n",
        "print(tf.__version__)\r\n",
        "print(\"Num GPUs Available: \", len(tf.config.experimental.list_physical_devices('GPU')))"
      ],
      "execution_count": 70,
      "outputs": [
        {
          "output_type": "stream",
          "text": [
            "2.4.0\n",
            "Num GPUs Available:  1\n"
          ],
          "name": "stdout"
        }
      ]
    },
    {
      "cell_type": "code",
      "metadata": {
        "id": "gg1JktdTCx53",
        "colab": {
          "base_uri": "https://localhost:8080/"
        },
        "outputId": "643fbfef-e737-4b5d-a840-457ea947248a"
      },
      "source": [
        "!unzip \"/content/drive/MyDrive/IML_CXR.zip\" -d \"/content\""
      ],
      "execution_count": 7,
      "outputs": [
        {
          "output_type": "stream",
          "text": [
            "Archive:  /content/drive/MyDrive/IML_CXR.zip\n",
            "replace /content/IML_CXR/1.jpg? [y]es, [n]o, [A]ll, [N]one, [r]ename: N\n"
          ],
          "name": "stdout"
        }
      ]
    },
    {
      "cell_type": "code",
      "metadata": {
        "id": "KLX77A_LC2Ah"
      },
      "source": [
        "from PIL import Image\r\n",
        "import pandas as pd\r\n",
        "import numpy as np\r\n",
        "import matplotlib.pyplot as plt\r\n",
        "import tensorflow as tf\r\n",
        "import os\r\n",
        "from tensorflow.keras.utils import to_categorical\r\n",
        "from sklearn.model_selection import train_test_split\r\n",
        "from tensorflow.keras.models import Sequential\r\n",
        "from tensorflow.keras.layers import Dense, Dropout, Conv2D, MaxPool2D, Flatten\r\n",
        "from tensorflow.keras.preprocessing.image import ImageDataGenerator\r\n",
        "from tensorflow.keras.callbacks import ReduceLROnPlateau\r\n",
        "from random import randint\r\n",
        "from scipy.ndimage.interpolation import rotate"
      ],
      "execution_count": 71,
      "outputs": []
    },
    {
      "cell_type": "markdown",
      "metadata": {
        "id": "atYoMTWWrFJY"
      },
      "source": [
        "# Load required data for CNN"
      ]
    },
    {
      "cell_type": "code",
      "metadata": {
        "id": "e7J3Jx33C3qv"
      },
      "source": [
        "# Open the image form working directory\r\n",
        "Outcomes = pd.read_csv(\"cxr_label_train.csv\")\r\n",
        "Outcomes = Outcomes.sort_values('PATIENT ID')\r\n",
        "X = np.array([np.array(Image.open('./IML_CXR/' + str(fname) + '.jpg'), dtype='float32') for fname in Outcomes['PATIENT ID']])\r\n",
        "Y = Outcomes['hospital_outcome']\r\n",
        "Y = to_categorical(Y)\r\n",
        "\r\n",
        "X_train, X_test, Y_train, Y_test = train_test_split(X, Y, test_size=0.3)\r\n",
        "\r\n",
        "rotate_X_train = np.zeros(X_train.shape)\r\n",
        "\r\n",
        "for i in range(len(X_train)):\r\n",
        "        rotate_X_train[i] = rotate(X_train[i], angle=randint(0, 90), reshape=False)\r\n",
        "\r\n",
        "X_train = np.concatenate((X_train, rotate_X_train), axis=0)\r\n",
        "X_train = X_train.reshape(X_train.shape[0], X_train.shape[1], X_train.shape[2], 1)\r\n",
        "seed = randint(0, 10000)\r\n",
        "np.random.seed(seed)  \r\n",
        "np.random.shuffle(X_train)\r\n",
        "\r\n",
        "Y_train = np.concatenate((Y_train, Y_train), axis=0)\r\n",
        "np.random.seed(seed)\r\n",
        "np.random.shuffle(Y_train)\r\n",
        "\r\n",
        "X_test = X_test.reshape(X_test.shape[0], X_test.shape[1], X_test.shape[2], 1)"
      ],
      "execution_count": 193,
      "outputs": []
    },
    {
      "cell_type": "markdown",
      "metadata": {
        "id": "JGmrV4UprQNO"
      },
      "source": [
        "# Build CNN model"
      ]
    },
    {
      "cell_type": "code",
      "metadata": {
        "id": "mnOim-JpC5eQ",
        "colab": {
          "base_uri": "https://localhost:8080/"
        },
        "outputId": "9de7b09d-b488-4049-d678-f93301fff354"
      },
      "source": [
        "model = Sequential()\r\n",
        "# convolutional layer\r\n",
        "model.add(Conv2D(16, kernel_size=(3,3), strides=(1,1), padding='valid', activation='relu', input_shape=(320,320, 1)))\r\n",
        "model.add(MaxPool2D(pool_size=(3, 3)))\r\n",
        "model.add(Conv2D(32, kernel_size=(3,3), padding='valid', activation='relu'))\r\n",
        "model.add(MaxPool2D(pool_size=(3, 3)))\r\n",
        "model.add(Conv2D(64, kernel_size=(3,3), padding='valid', activation='relu'))\r\n",
        "model.add(MaxPool2D(pool_size=(3, 3)))\r\n",
        "model.add(Conv2D(128, kernel_size=(3,3), padding='valid', activation='relu'))\r\n",
        "model.add(MaxPool2D(pool_size=(3, 3)))\r\n",
        "\r\n",
        "# flatten output of conv\r\n",
        "model.add(Flatten())\r\n",
        "# hidden layer\r\n",
        "model.add(Dense(128, activation='relu'))\r\n",
        "# output layer\r\n",
        "model.add(Dense(2, activation='softmax'))\r\n",
        "\r\n",
        "# compiling the sequential model\r\n",
        "model.summary()\r\n",
        "model.compile(loss='categorical_crossentropy', optimizer='adam', metrics=['accuracy'])"
      ],
      "execution_count": 194,
      "outputs": [
        {
          "output_type": "stream",
          "text": [
            "Model: \"sequential_20\"\n",
            "_________________________________________________________________\n",
            "Layer (type)                 Output Shape              Param #   \n",
            "=================================================================\n",
            "conv2d_80 (Conv2D)           (None, 318, 318, 16)      160       \n",
            "_________________________________________________________________\n",
            "max_pooling2d_80 (MaxPooling (None, 106, 106, 16)      0         \n",
            "_________________________________________________________________\n",
            "conv2d_81 (Conv2D)           (None, 104, 104, 32)      4640      \n",
            "_________________________________________________________________\n",
            "max_pooling2d_81 (MaxPooling (None, 34, 34, 32)        0         \n",
            "_________________________________________________________________\n",
            "conv2d_82 (Conv2D)           (None, 32, 32, 64)        18496     \n",
            "_________________________________________________________________\n",
            "max_pooling2d_82 (MaxPooling (None, 10, 10, 64)        0         \n",
            "_________________________________________________________________\n",
            "conv2d_83 (Conv2D)           (None, 8, 8, 128)         73856     \n",
            "_________________________________________________________________\n",
            "max_pooling2d_83 (MaxPooling (None, 2, 2, 128)         0         \n",
            "_________________________________________________________________\n",
            "flatten_20 (Flatten)         (None, 512)               0         \n",
            "_________________________________________________________________\n",
            "dense_40 (Dense)             (None, 128)               65664     \n",
            "_________________________________________________________________\n",
            "dense_41 (Dense)             (None, 2)                 258       \n",
            "=================================================================\n",
            "Total params: 163,074\n",
            "Trainable params: 163,074\n",
            "Non-trainable params: 0\n",
            "_________________________________________________________________\n"
          ],
          "name": "stdout"
        }
      ]
    },
    {
      "cell_type": "markdown",
      "metadata": {
        "id": "FZTW8rQbrYWz"
      },
      "source": [
        "# Training"
      ]
    },
    {
      "cell_type": "code",
      "metadata": {
        "colab": {
          "base_uri": "https://localhost:8080/"
        },
        "id": "KpVRksscC7gc",
        "outputId": "2a8a60f6-2cce-46b7-9889-30f81997f416"
      },
      "source": [
        "# training the model for 20 epochs\r\n",
        "model.fit(X_train, Y_train, batch_size=16, epochs=20, validation_data=(X_train, Y_train))"
      ],
      "execution_count": 195,
      "outputs": [
        {
          "output_type": "stream",
          "text": [
            "Epoch 1/20\n",
            "122/122 [==============================] - 4s 30ms/step - loss: 3.1036 - accuracy: 0.8068 - val_loss: 0.3473 - val_accuracy: 0.8867\n",
            "Epoch 2/20\n",
            "122/122 [==============================] - 3s 27ms/step - loss: 0.3379 - accuracy: 0.8926 - val_loss: 0.3041 - val_accuracy: 0.8872\n",
            "Epoch 3/20\n",
            "122/122 [==============================] - 3s 27ms/step - loss: 0.3275 - accuracy: 0.8890 - val_loss: 0.3219 - val_accuracy: 0.8862\n",
            "Epoch 4/20\n",
            "122/122 [==============================] - 3s 27ms/step - loss: 0.3019 - accuracy: 0.8898 - val_loss: 0.3513 - val_accuracy: 0.8862\n",
            "Epoch 5/20\n",
            "122/122 [==============================] - 3s 27ms/step - loss: 0.2964 - accuracy: 0.8947 - val_loss: 0.2644 - val_accuracy: 0.8969\n",
            "Epoch 6/20\n",
            "122/122 [==============================] - 3s 27ms/step - loss: 0.2881 - accuracy: 0.8857 - val_loss: 0.2532 - val_accuracy: 0.8944\n",
            "Epoch 7/20\n",
            "122/122 [==============================] - 3s 27ms/step - loss: 0.2728 - accuracy: 0.8972 - val_loss: 0.2511 - val_accuracy: 0.8990\n",
            "Epoch 8/20\n",
            "122/122 [==============================] - 3s 27ms/step - loss: 0.2619 - accuracy: 0.8976 - val_loss: 0.2541 - val_accuracy: 0.9113\n",
            "Epoch 9/20\n",
            "122/122 [==============================] - 3s 27ms/step - loss: 0.2704 - accuracy: 0.8931 - val_loss: 0.2084 - val_accuracy: 0.9226\n",
            "Epoch 10/20\n",
            "122/122 [==============================] - 3s 27ms/step - loss: 0.2420 - accuracy: 0.9109 - val_loss: 0.1919 - val_accuracy: 0.9282\n",
            "Epoch 11/20\n",
            "122/122 [==============================] - 3s 27ms/step - loss: 0.2187 - accuracy: 0.9129 - val_loss: 0.1721 - val_accuracy: 0.9359\n",
            "Epoch 12/20\n",
            "122/122 [==============================] - 3s 27ms/step - loss: 0.1594 - accuracy: 0.9359 - val_loss: 0.1401 - val_accuracy: 0.9574\n",
            "Epoch 13/20\n",
            "122/122 [==============================] - 3s 27ms/step - loss: 0.1510 - accuracy: 0.9406 - val_loss: 0.1259 - val_accuracy: 0.9544\n",
            "Epoch 14/20\n",
            "122/122 [==============================] - 3s 27ms/step - loss: 0.1840 - accuracy: 0.9318 - val_loss: 0.1447 - val_accuracy: 0.9497\n",
            "Epoch 15/20\n",
            "122/122 [==============================] - 3s 27ms/step - loss: 0.1338 - accuracy: 0.9509 - val_loss: 0.1314 - val_accuracy: 0.9379\n",
            "Epoch 16/20\n",
            "122/122 [==============================] - 3s 27ms/step - loss: 0.1379 - accuracy: 0.9540 - val_loss: 0.1223 - val_accuracy: 0.9487\n",
            "Epoch 17/20\n",
            "122/122 [==============================] - 3s 27ms/step - loss: 0.1166 - accuracy: 0.9488 - val_loss: 0.0765 - val_accuracy: 0.9738\n",
            "Epoch 18/20\n",
            "122/122 [==============================] - 3s 27ms/step - loss: 0.1401 - accuracy: 0.9476 - val_loss: 0.0907 - val_accuracy: 0.9738\n",
            "Epoch 19/20\n",
            "122/122 [==============================] - 3s 27ms/step - loss: 0.0885 - accuracy: 0.9695 - val_loss: 0.0464 - val_accuracy: 0.9862\n",
            "Epoch 20/20\n",
            "122/122 [==============================] - 3s 27ms/step - loss: 0.0840 - accuracy: 0.9628 - val_loss: 0.1181 - val_accuracy: 0.9523\n"
          ],
          "name": "stdout"
        },
        {
          "output_type": "execute_result",
          "data": {
            "text/plain": [
              "<tensorflow.python.keras.callbacks.History at 0x7f278b0804a8>"
            ]
          },
          "metadata": {
            "tags": []
          },
          "execution_count": 195
        }
      ]
    },
    {
      "cell_type": "markdown",
      "metadata": {
        "id": "6R7SMG-LrwwR"
      },
      "source": [
        "# Check model performance"
      ]
    },
    {
      "cell_type": "code",
      "metadata": {
        "colab": {
          "base_uri": "https://localhost:8080/"
        },
        "id": "pbAYqz_7C-E_",
        "outputId": "45c97587-9fb0-4969-d35c-d69704adc3ed"
      },
      "source": [
        "Y_pred = model.predict(X_test)\r\n",
        "#print(Y_pred)\r\n",
        "for i in range(len(Y_pred)):\r\n",
        "    if Y_pred[i][1] > 0.3:\r\n",
        "        Y_pred[i][1] = 1\r\n",
        "    else:\r\n",
        "        Y_pred[i][1] = 0\r\n",
        "TN, FN, TP, FP = 0, 0, 0, 0\r\n",
        "for i in range(len(Y_test)):\r\n",
        "        if Y_test[i][1] == 0 and Y_pred[i][1] == 0:\r\n",
        "                TN += 1\r\n",
        "        if Y_test[i][1] == 1 and Y_pred[i][1] == 0:\r\n",
        "                FN += 1\r\n",
        "        if Y_test[i][1] == 0 and Y_pred[i][1] == 1:\r\n",
        "                FP += 1\r\n",
        "        if Y_test[i][1] == 1 and Y_pred[i][1] == 1:\r\n",
        "                TP += 1\r\n",
        "print(\"TN:\", TN, \", FN:\", FN, \", TP:\", TP, \", FP:\", FP)\r\n",
        "precision, recall = (TP/(FP+TP)), (TP/(FN+TP))\r\n",
        "print(\"precision:\", precision, \", recall:\", recall)\r\n",
        "print('F1:',  2 * ((precision*recall)/(precision+recall)))\r\n",
        "\r\n",
        "X = X.reshape(X.shape[0], X.shape[1], X.shape[2], 1)\r\n",
        "Y_pred = model.predict(X)\r\n",
        "CXR1 = Y_pred[:, 0]\r\n",
        "CXR2 = Y_pred[:, 1]"
      ],
      "execution_count": 196,
      "outputs": [
        {
          "output_type": "stream",
          "text": [
            "TN: 334 , FN: 40 , TP: 13 , FP: 31\n",
            "precision: 0.29545454545454547 , recall: 0.24528301886792453\n",
            "F1: 0.26804123711340205\n"
          ],
          "name": "stdout"
        }
      ]
    },
    {
      "cell_type": "code",
      "metadata": {
        "id": "9EeAK5qsDAZx"
      },
      "source": [
        "!unzip \"/content/drive/MyDrive/IML_CXR_TEST.zip\" -d \"/content\""
      ],
      "execution_count": null,
      "outputs": []
    },
    {
      "cell_type": "markdown",
      "metadata": {
        "id": "rHy6-G_Tr9Un"
      },
      "source": [
        "# Generate test data's CXR outputs"
      ]
    },
    {
      "cell_type": "code",
      "metadata": {
        "id": "t6uvix8MDBuh"
      },
      "source": [
        "Data_list=[x.split('.')[0] for x in os.listdir('IML_CXR_TEST')]\r\n",
        "for i in range(len(Data_list)): \r\n",
        "    Data_list[i] = int(Data_list[i]) \r\n",
        "Data_list.sort()\r\n",
        "Test_data = np.array([np.array(Image.open('./IML_CXR_TEST/' + str(fname) + '.jpg'), dtype='float32') for fname in Data_list])\r\n",
        "Test_data = Test_data.reshape(Test_data.shape[0], Test_data.shape[1], Test_data.shape[2], 1)"
      ],
      "execution_count": 197,
      "outputs": []
    },
    {
      "cell_type": "code",
      "metadata": {
        "id": "qfv3tDKXDDdW"
      },
      "source": [
        "Y_pred = model.predict(Test_data)\r\n",
        "# for i in range(len(Y_pred)):\r\n",
        "#     if Y_pred[i][1] > 0.3:\r\n",
        "#         Y_pred[i][1] = 1\r\n",
        "#     else:\r\n",
        "#         Y_pred[i][1] = 0\r\n",
        "Test_CXR1 = Y_pred[:, 0]\r\n",
        "Test_CXR2 = Y_pred[:, 1]"
      ],
      "execution_count": 198,
      "outputs": []
    },
    {
      "cell_type": "markdown",
      "metadata": {
        "id": "20pUUmbmsI7v"
      },
      "source": [
        "# Treat CXR outputs as one kind of attributes"
      ]
    },
    {
      "cell_type": "code",
      "metadata": {
        "colab": {
          "base_uri": "https://localhost:8080/"
        },
        "id": "73z7Rq-KDN_Z",
        "outputId": "0b96d995-a7c6-4f3d-f0f1-cc4706e02126"
      },
      "source": [
        "import pandas as pd\r\n",
        "import numpy as np\r\n",
        "import matplotlib.pyplot as plt\r\n",
        "from sklearn.model_selection import train_test_split\r\n",
        "from sklearn.ensemble import RandomForestClassifier\r\n",
        "\r\n",
        "Attributes = pd.read_csv(\"hm_hospitales_covid_structured_30d_train.csv\", na_values=0, na_filter=True)\r\n",
        "Outcomes = pd.read_csv(\"cxr_label_train.csv\")\r\n",
        "Data = Attributes\r\n",
        "\r\n",
        "Data.loc[Data['sex'] == 'FEMALE', 'sex'] = 0\r\n",
        "Data.loc[Data['sex'] == 'MALE', 'sex'] = 1\r\n",
        "Data.loc[Data['ed_diagnosis'] == 'sx_breathing_difficulty', 'ed_diagnosis'] = 1\r\n",
        "Data.loc[Data['ed_diagnosis'] == 'sx_others', 'ed_diagnosis'] = 2\r\n",
        "Data.loc[Data['ed_diagnosis'] == 'sx_flu', 'ed_diagnosis'] = 3\r\n",
        "Data.loc[Data['ed_diagnosis'] == 'sx_fever', 'ed_diagnosis'] = 4\r\n",
        "Data.loc[Data['ed_diagnosis'] == 'sx_cough', 'ed_diagnosis'] = 5\r\n",
        "\r\n",
        "Data = Data.sort_values('PATIENT ID')\r\n",
        "Outcomes = Outcomes.sort_values('PATIENT ID')\r\n",
        "Data = Data.fillna(Data.mode().iloc[0])\r\n",
        "Data = Data[Data['PATIENT ID'].isin(Outcomes['PATIENT ID'])]\r\n",
        "print(Data)\r\n",
        "Data = Data.drop(labels=['PATIENT ID', 'admission_datetime'], axis='columns')\r\n",
        "Data['CXR1'] = CXR1\r\n",
        "Data['CXR2'] = CXR2\r\n",
        "X = Data\r\n",
        "#X = Data.loc[Data['PATIENT ID'] == Outcomes_CXR['PATIENT ID']]\r\n",
        "#X = Data\r\n",
        "\r\n",
        "#X = X.to_numpy()\r\n",
        "Y = Outcomes.drop(labels='PATIENT ID', axis='columns')\r\n",
        "Y = Y.to_numpy()\r\n",
        "Y = Y.ravel()\r\n",
        "\r\n",
        "X_train, X_test, Y_train, Y_test = train_test_split(X, Y, test_size=0.3)\r\n"
      ],
      "execution_count": 205,
      "outputs": [
        {
          "output_type": "stream",
          "text": [
            "      PATIENT ID  age  sex  ... lab_lymphocyte  lab_rdw  lab_hemoglobin\n",
            "1029           1   85    1  ...           0.58     14.6            13.5\n",
            "1261          47   55    1  ...           1.42     13.9            14.3\n",
            "226           48   70    0  ...           0.92     13.6            13.6\n",
            "167           49   85    1  ...           0.50     15.6             7.1\n",
            "895           50   39    1  ...           0.99     12.6            16.0\n",
            "...          ...  ...  ...  ...            ...      ...             ...\n",
            "1183        2561   93    0  ...           0.88     13.2            13.9\n",
            "98          2562   64    1  ...           0.88     13.2            13.9\n",
            "1264        2563   58    1  ...           0.39     11.7            10.9\n",
            "1120        2565   92    0  ...           1.37     13.2            12.4\n",
            "284         2571   88    0  ...           0.43     10.2            10.2\n",
            "\n",
            "[1393 rows x 48 columns]\n"
          ],
          "name": "stdout"
        }
      ]
    },
    {
      "cell_type": "markdown",
      "metadata": {
        "id": "TG_ihJhLtk1C"
      },
      "source": [
        "# Random Forest training"
      ]
    },
    {
      "cell_type": "code",
      "metadata": {
        "colab": {
          "base_uri": "https://localhost:8080/"
        },
        "id": "gXNpzlfXGdO7",
        "outputId": "62aba342-d556-4f7a-c571-ee9f47191900"
      },
      "source": [
        "clf = RandomForestClassifier(min_samples_leaf= 5, n_estimators= 300)\r\n",
        "Y_pred_prob = clf.fit(X_train, Y_train).predict_log_proba(X_test)\r\n",
        "Y_pred = clf.predict(X_test)\r\n",
        "print(Y_pred)\r\n",
        "for i in range(0, Y_pred.shape[0]):\r\n",
        "        if Y_pred_prob[i][1] > -1.1:\r\n",
        "                Y_pred[i] = 1\r\n",
        "        else:\r\n",
        "                Y_pred[i] = 0\r\n",
        "        #print(Y_pred_prob[i][0], Y_pred_prob[i][1], Y_pred[i], Y_test[i])\r\n",
        "TN, FN, TP, FP = 0, 0, 0, 0\r\n",
        "for i in range(len(Y_test)):\r\n",
        "        if Y_test[i] == 0 and Y_pred[i] == 0:\r\n",
        "                TN += 1\r\n",
        "        if Y_test[i] == 1 and Y_pred[i] == 0:\r\n",
        "                FN += 1\r\n",
        "        if Y_test[i] == 0 and Y_pred[i] == 1:\r\n",
        "                FP += 1\r\n",
        "        if Y_test[i] == 1 and Y_pred[i] == 1:\r\n",
        "                TP += 1\r\n",
        "\r\n",
        "print(\"TN:\", TN, \", FN:\", FN, \", TP:\", TP, \", FP:\", FP)\r\n",
        "precision, recall = (TP/(FP+TP)), (TP/(FN+TP))\r\n",
        "print(\"precision:\", precision, \", recall:\", recall)\r\n",
        "print('F1:',  2 * ((precision*recall)/(precision+recall)))\r\n",
        "\r\n",
        "\r\n"
      ],
      "execution_count": 206,
      "outputs": [
        {
          "output_type": "stream",
          "text": [
            "[0 0 0 0 0 0 0 0 0 0 0 0 0 0 0 1 0 0 0 0 0 0 0 0 0 0 0 0 0 1 1 0 0 0 0 0 0\n",
            " 0 0 0 0 1 0 0 0 1 0 0 0 0 0 0 0 0 0 0 0 0 0 0 0 0 0 0 0 0 0 0 1 0 0 0 0 0\n",
            " 0 0 0 0 0 0 0 0 0 0 0 0 0 0 0 0 0 1 0 1 0 0 0 0 0 0 0 0 0 1 0 0 0 0 0 0 0\n",
            " 0 0 0 0 0 0 0 0 0 0 0 0 0 0 0 0 0 0 0 0 0 0 0 0 0 0 0 0 0 0 0 0 0 0 0 0 0\n",
            " 0 0 0 0 0 0 0 0 0 0 0 0 0 1 0 0 0 0 0 0 0 0 1 0 0 0 0 0 0 0 0 0 0 0 0 1 0\n",
            " 0 0 0 0 0 0 0 0 1 0 0 0 0 1 0 0 0 0 0 0 0 0 0 0 0 0 0 0 0 0 0 0 0 0 0 0 0\n",
            " 0 0 0 0 0 0 0 0 0 0 0 0 0 0 0 0 0 0 1 0 0 0 0 1 0 0 0 0 0 0 0 0 0 0 0 0 0\n",
            " 0 0 0 1 0 0 0 0 0 0 0 0 1 0 0 0 0 0 0 0 0 0 0 0 0 0 0 0 1 0 0 0 0 0 0 1 0\n",
            " 0 0 0 0 0 0 0 0 0 0 0 0 0 0 0 0 0 0 0 0 0 0 0 0 0 1 0 0 0 0 0 0 0 0 0 0 0\n",
            " 0 0 0 0 0 0 0 0 0 0 0 0 0 0 1 1 0 1 0 0 0 0 0 0 1 0 0 1 0 0 0 0 0 0 0 0 0\n",
            " 1 0 0 0 0 0 0 0 0 0 0 0 0 0 0 0 0 0 0 0 0 0 0 0 0 0 0 0 0 0 0 0 0 0 0 0 0\n",
            " 0 0 0 0 0 0 0 0 0 0 0]\n",
            "TN: 360 , FN: 15 , TP: 34 , FP: 9\n",
            "precision: 0.7906976744186046 , recall: 0.6938775510204082\n",
            "F1: 0.7391304347826086\n"
          ],
          "name": "stdout"
        }
      ]
    },
    {
      "cell_type": "code",
      "metadata": {
        "colab": {
          "base_uri": "https://localhost:8080/"
        },
        "id": "lZCQc8wuG-qi",
        "outputId": "d10a1d4a-0122-4e18-85e9-aeeddb2511ba"
      },
      "source": [
        "Attributes = pd.read_csv(\"fixed_test.csv\", na_values=0, na_filter=True)\r\n",
        "\r\n",
        "Data = Attributes\r\n",
        "Data = Data.sort_values('PATIENT ID')\r\n",
        "Data.loc[Data['sex'] == 'FEMALE', 'sex'] = 0\r\n",
        "Data.loc[Data['sex'] == 'MALE', 'sex'] = 1\r\n",
        "Data.loc[Data['ed_diagnosis'] == 'sx_breathing_difficulty', 'ed_diagnosis'] = 1\r\n",
        "Data.loc[Data['ed_diagnosis'] == 'sx_others', 'ed_diagnosis'] = 2\r\n",
        "Data.loc[Data['ed_diagnosis'] == 'sx_flu', 'ed_diagnosis'] = 3\r\n",
        "Data.loc[Data['ed_diagnosis'] == 'sx_fever', 'ed_diagnosis'] = 4\r\n",
        "Data.loc[Data['ed_diagnosis'] == 'sx_cough', 'ed_diagnosis'] = 5\r\n",
        "Data = Data.fillna(Data.mode().iloc[0])\r\n",
        "Data = Data[Data['PATIENT ID'].isin(Data_list)]\r\n",
        "Data = Data.drop(labels=['PATIENT ID', 'admission_datetime'], axis='columns')\r\n",
        "\r\n",
        "Data['CXR1'] = Test_CXR1\r\n",
        "Data['CXR2'] = Test_CXR2\r\n",
        "X = Data\r\n",
        "\r\n",
        "Y_pred_prob = clf.predict_log_proba(X)\r\n",
        "Y_pred = clf.predict(X)\r\n",
        "for i in range(0, Y_pred.shape[0]):\r\n",
        "        if Y_pred_prob[i][1] > -1.1:\r\n",
        "                Y_pred[i] = 1\r\n",
        "        else:\r\n",
        "                Y_pred[i] = 0\r\n",
        "Outcomes = pd.DataFrame(Data_list, columns = ['PATIENT ID']) \r\n",
        "Outcomes['hospital_outcome'] = Y_pred.astype(int)\r\n",
        "\r\n",
        "Outcomes.to_csv('Bonus_107062338.csv', index=False) #output prediction"
      ],
      "execution_count": 207,
      "outputs": [
        {
          "output_type": "stream",
          "text": [
            "/usr/local/lib/python3.6/dist-packages/sklearn/ensemble/_forest.py:704: RuntimeWarning: divide by zero encountered in log\n",
            "  return np.log(proba)\n"
          ],
          "name": "stderr"
        }
      ]
    }
  ]
}